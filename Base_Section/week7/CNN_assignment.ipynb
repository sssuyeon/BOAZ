{
  "nbformat": 4,
  "nbformat_minor": 0,
  "metadata": {
    "colab": {
      "name": "CNN_assignment.ipynb",
      "provenance": [],
      "collapsed_sections": []
    },
    "kernelspec": {
      "name": "python3",
      "display_name": "Python 3"
    }
  },
  "cells": [
    {
      "cell_type": "markdown",
      "metadata": {
        "id": "QL0V3t2HD_aI"
      },
      "source": [
        "## Library Import"
      ]
    },
    {
      "cell_type": "code",
      "metadata": {
        "id": "eqXktTz3D_Hb"
      },
      "source": [
        "import numpy as np\n",
        "\n",
        "import tensorflow as tf\n",
        "from tensorflow.keras.layers import Input, Flatten, Dense, Conv2D, BatchNormalization, LeakyReLU, Dropout, Activation\n",
        "from tensorflow.keras.models import Model\n",
        "from tensorflow.keras.optimizers import Adam\n",
        "from tensorflow.keras.utils import to_categorical\n",
        "import tensorflow.keras.backend as K \n",
        "\n",
        "from tensorflow.keras.datasets import cifar10"
      ],
      "execution_count": null,
      "outputs": []
    },
    {
      "cell_type": "code",
      "metadata": {
        "id": "vZ0UwWJkD95A"
      },
      "source": [
        "# class 개수 지정\n",
        "NUM_CLASSES = 10"
      ],
      "execution_count": null,
      "outputs": []
    },
    {
      "cell_type": "code",
      "metadata": {
        "id": "t2gF2OEIEH-3",
        "colab": {
          "base_uri": "https://localhost:8080/",
          "height": 51
        },
        "outputId": "81de1c83-59d3-4085-b1c7-14fc801607e0"
      },
      "source": [
        "# CIFAR-10 dataset load\n",
        "(X_train, y_train), (X_test, y_test) = cifar10.load_data()"
      ],
      "execution_count": null,
      "outputs": [
        {
          "output_type": "stream",
          "text": [
            "Downloading data from https://www.cs.toronto.edu/~kriz/cifar-10-python.tar.gz\n",
            "170500096/170498071 [==============================] - 4s 0us/step\n"
          ],
          "name": "stdout"
        }
      ]
    },
    {
      "cell_type": "markdown",
      "metadata": {
        "id": "-DJIttVQK1LS"
      },
      "source": [
        "- **Assignment 1: X_train, X_test, y_train, y_test의 shape과 형식을 출력해보세요. (각각 출력해도 됩니다!)**"
      ]
    },
    {
      "cell_type": "code",
      "metadata": {
        "id": "S4CcD78lKqkT"
      },
      "source": [
        "## 여기에!"
      ],
      "execution_count": null,
      "outputs": []
    },
    {
      "cell_type": "code",
      "metadata": {
        "id": "Bu2stYg1EJ_S"
      },
      "source": [
        "# 기본적으로 image data는 pixel channel마다 0~255 integer로 구성되는데,\n",
        "# 신경망은 input이 -1~1 범위에서 가장 잘 동작하기 때문에 데이터를 255로 나눈다.\n",
        "X_train = X_train.astype('float32') / 255.0\n",
        "X_test = X_test.astype('float32') / 255.0"
      ],
      "execution_count": null,
      "outputs": []
    },
    {
      "cell_type": "code",
      "metadata": {
        "id": "NJvIv43RLrnG"
      },
      "source": [
        "# image의 integer label을 one-hot encoding vector로 바꾼다.\n",
        "y_train = to_categorical(y_train, NUM_CLASSES)\n",
        "y_test = to_categorical(y_test, NUM_CLASSES)"
      ],
      "execution_count": null,
      "outputs": []
    },
    {
      "cell_type": "markdown",
      "metadata": {
        "id": "i7H2w8wjL7jD"
      },
      "source": [
        "- **Assignment 2: 변환된 y_train, y_test의 shape을 출력해보세요.**"
      ]
    },
    {
      "cell_type": "code",
      "metadata": {
        "id": "SKEGGnqRMA3Q"
      },
      "source": [
        "## 여기에!"
      ],
      "execution_count": null,
      "outputs": []
    },
    {
      "cell_type": "markdown",
      "metadata": {
        "id": "ADmkfyo1MYRI"
      },
      "source": [
        "- **Assignment 3: X_train에서, index 54의 이미지에서 (12,13) 위치에 해당하는 픽셀의 초록 채널(1) 값을 출력해보세요. (힌트: X_train[?,?,?,?])**"
      ]
    },
    {
      "cell_type": "code",
      "metadata": {
        "id": "CdjAEgoOMorw"
      },
      "source": [
        "## 여기에!"
      ],
      "execution_count": null,
      "outputs": []
    },
    {
      "cell_type": "markdown",
      "metadata": {
        "id": "vW9tVHDOEYWa"
      },
      "source": [
        "## Modeling"
      ]
    },
    {
      "cell_type": "markdown",
      "metadata": {
        "id": "xQ3ZtsPmI_i6"
      },
      "source": [
        "Keras에서 신경망 구조를 정의하는 방법은 **Sequential 모델**과 **함수형 API** 두 가지가 있습니다.  \n",
        "\n",
        "Sequential 모델은 일렬로 층을 쌓은 네트워크를 빠르게 만들 때 사용하기 좋습니다. 즉 어떤 분기가 없이 이전 층이 그대로 다음 층으로 연결됩니다.  \n",
        "하지만 한 층의 출력이 여러 개의 별도의 층으로 전달되거나, 한 층이 여러 층으로부터 입력을 받는 등의 가지가 있는 네트워크를 만들기 위해서는 유연성이 많은 함수형 API를 사용하는 것이 좋습니다.  \n",
        "Keras에서도 단순한 모델을 만들더라도 Sequential 모델보다 함수형 API를 권장합니다. 장기적으로 보면 모델이 점점 복잡한 구조가 될 수 있기 때문입니다.  \n",
        "함수형 API는 Deep Neural Network 구조를 설계하는 데에 있어 엄청난 자유를 제공합니다.\n",
        "\n",
        "따라서 본 assignment에서는 함수형 API를 사용하여 Modeling을 진행하였습니다."
      ]
    },
    {
      "cell_type": "code",
      "metadata": {
        "id": "QRiJJ77IELxS"
      },
      "source": [
        "input_layer = Input(shape=(32,32,3))\n",
        "\n",
        "\n",
        "x = Conv2D(filters=32, kernel_size=3, strides=1, padding='same')(input_layer)\n",
        "x = BatchNormalization()(x)\n",
        "x = LeakyReLU()(x)\n",
        "\n",
        "x = Conv2D(filters=32, kernel_size=3, strides=2, padding='same')(x)\n",
        "x = LeakyReLU()(x)\n",
        "\n",
        "x = Conv2D(filters=64, kernel_size=3, strides=1, padding='same')(x)\n",
        "x = LeakyReLU()(x)\n",
        "\n",
        "x = Conv2D(filters=64, kernel_size=3, strides=2, padding='same')(x)\n",
        "x = LeakyReLU()(x)\n",
        "\n",
        "x = Flatten()(x)\n",
        "\n",
        "x = Dense(128)(x)\n",
        "x = LeakyReLU()(x)\n",
        "x = Dropout(rate=0.5)(x)\n",
        "\n",
        "x = Dense(NUM_CLASSES)(x)\n",
        "output_layer = Activation('softmax')(x)\n",
        "\n",
        "\n",
        "model = Model(input_layer, output_layer)"
      ],
      "execution_count": null,
      "outputs": []
    },
    {
      "cell_type": "code",
      "metadata": {
        "id": "1s699AJIE4KK",
        "colab": {
          "base_uri": "https://localhost:8080/",
          "height": 697
        },
        "outputId": "bdf3743b-27f5-4160-af6f-352fdad2cb18"
      },
      "source": [
        "model.summary()"
      ],
      "execution_count": null,
      "outputs": [
        {
          "output_type": "stream",
          "text": [
            "Model: \"functional_1\"\n",
            "_________________________________________________________________\n",
            "Layer (type)                 Output Shape              Param #   \n",
            "=================================================================\n",
            "input_1 (InputLayer)         [(None, 32, 32, 3)]       0         \n",
            "_________________________________________________________________\n",
            "conv2d (Conv2D)              (None, 32, 32, 32)        896       \n",
            "_________________________________________________________________\n",
            "batch_normalization (BatchNo (None, 32, 32, 32)        128       \n",
            "_________________________________________________________________\n",
            "leaky_re_lu (LeakyReLU)      (None, 32, 32, 32)        0         \n",
            "_________________________________________________________________\n",
            "conv2d_1 (Conv2D)            (None, 16, 16, 32)        9248      \n",
            "_________________________________________________________________\n",
            "leaky_re_lu_1 (LeakyReLU)    (None, 16, 16, 32)        0         \n",
            "_________________________________________________________________\n",
            "conv2d_2 (Conv2D)            (None, 16, 16, 64)        18496     \n",
            "_________________________________________________________________\n",
            "leaky_re_lu_2 (LeakyReLU)    (None, 16, 16, 64)        0         \n",
            "_________________________________________________________________\n",
            "conv2d_3 (Conv2D)            (None, 8, 8, 64)          36928     \n",
            "_________________________________________________________________\n",
            "leaky_re_lu_3 (LeakyReLU)    (None, 8, 8, 64)          0         \n",
            "_________________________________________________________________\n",
            "flatten (Flatten)            (None, 4096)              0         \n",
            "_________________________________________________________________\n",
            "dense (Dense)                (None, 128)               524416    \n",
            "_________________________________________________________________\n",
            "leaky_re_lu_4 (LeakyReLU)    (None, 128)               0         \n",
            "_________________________________________________________________\n",
            "dropout (Dropout)            (None, 128)               0         \n",
            "_________________________________________________________________\n",
            "dense_1 (Dense)              (None, 10)                1290      \n",
            "_________________________________________________________________\n",
            "activation (Activation)      (None, 10)                0         \n",
            "=================================================================\n",
            "Total params: 591,402\n",
            "Trainable params: 591,338\n",
            "Non-trainable params: 64\n",
            "_________________________________________________________________\n"
          ],
          "name": "stdout"
        }
      ]
    },
    {
      "cell_type": "markdown",
      "metadata": {
        "id": "gNZvLsDxFAci"
      },
      "source": [
        "## Train"
      ]
    },
    {
      "cell_type": "code",
      "metadata": {
        "id": "aFLEGUm-E53f"
      },
      "source": [
        "model.compile(loss='categorical_crossentropy', optimizer=Adam(lr=0.0005), metrics=['accuracy'])"
      ],
      "execution_count": null,
      "outputs": []
    },
    {
      "cell_type": "markdown",
      "metadata": {
        "id": "xON7dDYUM0wq"
      },
      "source": [
        "- **Assignment 4: loss를 categorical_crossentropy로 설정한 이유는 무엇일까요?**\n",
        "- 답: "
      ]
    },
    {
      "cell_type": "code",
      "metadata": {
        "id": "CX2mk5jfFVnh"
      },
      "source": [
        "BATCH_SIZE = 32\n",
        "EPOCHS = 10"
      ],
      "execution_count": null,
      "outputs": []
    },
    {
      "cell_type": "code",
      "metadata": {
        "id": "NafdP2o1FLhR",
        "colab": {
          "base_uri": "https://localhost:8080/",
          "height": 374
        },
        "outputId": "64ff51b0-3ffe-444d-f049-f1ce4a2d1550"
      },
      "source": [
        "model.fit(X_train,\n",
        "          y_train,\n",
        "          batch_size=BATCH_SIZE,\n",
        "          epochs=EPOCHS,\n",
        "          shuffle=True,\n",
        "          validation_data=(X_test, y_test))"
      ],
      "execution_count": null,
      "outputs": [
        {
          "output_type": "stream",
          "text": [
            "Epoch 1/10\n",
            "1563/1563 [==============================] - 147s 94ms/step - loss: 1.4681 - accuracy: 0.4798 - val_loss: 1.2613 - val_accuracy: 0.5535\n",
            "Epoch 2/10\n",
            "1563/1563 [==============================] - 147s 94ms/step - loss: 1.1025 - accuracy: 0.6128 - val_loss: 1.0044 - val_accuracy: 0.6441\n",
            "Epoch 3/10\n",
            "1563/1563 [==============================] - 146s 93ms/step - loss: 0.9611 - accuracy: 0.6659 - val_loss: 1.1830 - val_accuracy: 0.5918\n",
            "Epoch 4/10\n",
            "1563/1563 [==============================] - 148s 94ms/step - loss: 0.8656 - accuracy: 0.6981 - val_loss: 0.9226 - val_accuracy: 0.6826\n",
            "Epoch 5/10\n",
            "1563/1563 [==============================] - 146s 94ms/step - loss: 0.8016 - accuracy: 0.7200 - val_loss: 0.9076 - val_accuracy: 0.6869\n",
            "Epoch 6/10\n",
            "1563/1563 [==============================] - 148s 95ms/step - loss: 0.7552 - accuracy: 0.7361 - val_loss: 0.8825 - val_accuracy: 0.6978\n",
            "Epoch 7/10\n",
            "1563/1563 [==============================] - 147s 94ms/step - loss: 0.7093 - accuracy: 0.7523 - val_loss: 0.9909 - val_accuracy: 0.6650\n",
            "Epoch 8/10\n",
            "1563/1563 [==============================] - 147s 94ms/step - loss: 0.6696 - accuracy: 0.7649 - val_loss: 0.9497 - val_accuracy: 0.6924\n",
            "Epoch 9/10\n",
            "1563/1563 [==============================] - 147s 94ms/step - loss: 0.6251 - accuracy: 0.7792 - val_loss: 0.9342 - val_accuracy: 0.6941\n",
            "Epoch 10/10\n",
            "1563/1563 [==============================] - 147s 94ms/step - loss: 0.5941 - accuracy: 0.7886 - val_loss: 0.9182 - val_accuracy: 0.6997\n"
          ],
          "name": "stdout"
        },
        {
          "output_type": "execute_result",
          "data": {
            "text/plain": [
              "<tensorflow.python.keras.callbacks.History at 0x7f91cf02ed30>"
            ]
          },
          "metadata": {
            "tags": []
          },
          "execution_count": 13
        }
      ]
    },
    {
      "cell_type": "code",
      "metadata": {
        "id": "ZRWjy0oRFfWf",
        "colab": {
          "base_uri": "https://localhost:8080/",
          "height": 1000
        },
        "outputId": "df98dd4f-ca7d-442b-af49-315bd2da1f37"
      },
      "source": [
        "model.layers[6].get_weights()"
      ],
      "execution_count": null,
      "outputs": [
        {
          "output_type": "execute_result",
          "data": {
            "text/plain": [
              "[array([[[[-0.04259332, -0.0607922 , -0.00951152, ..., -0.06136351,\n",
              "            0.04057593, -0.01740778],\n",
              "          [ 0.06991476,  0.0256806 ,  0.0708385 , ..., -0.040457  ,\n",
              "            0.10094211, -0.01195824],\n",
              "          [-0.01900335, -0.06499046,  0.05798565, ...,  0.0173661 ,\n",
              "            0.04546683, -0.01995733],\n",
              "          ...,\n",
              "          [-0.06666016,  0.09445749, -0.0419244 , ...,  0.08831349,\n",
              "           -0.01969474,  0.04308353],\n",
              "          [-0.12694201,  0.09403497, -0.0565591 , ..., -0.09352855,\n",
              "           -0.01789761, -0.0113548 ],\n",
              "          [ 0.03344607, -0.05236976, -0.08448571, ...,  0.01954847,\n",
              "            0.02117534,  0.13993828]],\n",
              " \n",
              "         [[-0.07289458,  0.01287712,  0.02055225, ...,  0.09652768,\n",
              "           -0.0916841 ,  0.05594898],\n",
              "          [ 0.04880926,  0.09204186, -0.04470589, ...,  0.05692529,\n",
              "           -0.028542  , -0.06055481],\n",
              "          [-0.03156324, -0.04793948,  0.04857089, ..., -0.0336272 ,\n",
              "           -0.0362311 ,  0.07352059],\n",
              "          ...,\n",
              "          [-0.04608168,  0.07513653, -0.02849161, ...,  0.07917845,\n",
              "            0.12369338,  0.0830967 ],\n",
              "          [-0.05573167, -0.04245141,  0.0356828 , ..., -0.03050367,\n",
              "           -0.13849255, -0.03207987],\n",
              "          [-0.03862616, -0.02293814, -0.17151265, ..., -0.01706988,\n",
              "           -0.08938427,  0.13129924]],\n",
              " \n",
              "         [[ 0.03455503,  0.02961762,  0.00246424, ...,  0.05172546,\n",
              "           -0.05627478,  0.05580164],\n",
              "          [ 0.08076093, -0.01491391, -0.07247704, ..., -0.05418656,\n",
              "            0.10251717,  0.09951747],\n",
              "          [ 0.03309158,  0.08265117, -0.12826122, ...,  0.06907047,\n",
              "           -0.03587515,  0.00025539],\n",
              "          ...,\n",
              "          [-0.02519726,  0.08759452,  0.00242907, ...,  0.04866377,\n",
              "           -0.13132916,  0.07359196],\n",
              "          [ 0.01949545, -0.04077302,  0.103866  , ...,  0.02344459,\n",
              "            0.00638731, -0.04518006],\n",
              "          [ 0.05525997,  0.0282889 ,  0.05233326, ..., -0.1036954 ,\n",
              "            0.04372501, -0.00795323]]],\n",
              " \n",
              " \n",
              "        [[[ 0.00454133, -0.09231512, -0.05627551, ...,  0.02005241,\n",
              "            0.07378578,  0.06534164],\n",
              "          [ 0.08273726,  0.02415099,  0.03573921, ...,  0.1457365 ,\n",
              "            0.12711567, -0.04134609],\n",
              "          [-0.04180933, -0.01772911, -0.00734684, ..., -0.06332794,\n",
              "           -0.09064162,  0.10051344],\n",
              "          ...,\n",
              "          [ 0.01499094,  0.06374361,  0.05141932, ...,  0.07747766,\n",
              "           -0.01563223,  0.01888321],\n",
              "          [-0.03307052, -0.00188059,  0.01173619, ..., -0.11746115,\n",
              "            0.05869132, -0.01770137],\n",
              "          [-0.00139631,  0.04898967, -0.14416824, ...,  0.00597486,\n",
              "           -0.02062303, -0.02604404]],\n",
              " \n",
              "         [[-0.11819287, -0.03986961, -0.02031892, ...,  0.01272923,\n",
              "           -0.16386749, -0.03440255],\n",
              "          [-0.09571202, -0.03519017, -0.06956998, ...,  0.01141846,\n",
              "           -0.04532818,  0.0451489 ],\n",
              "          [-0.00438029,  0.07449735, -0.00908271, ..., -0.02537582,\n",
              "           -0.10594804,  0.07539591],\n",
              "          ...,\n",
              "          [-0.06758828, -0.02453867, -0.07541901, ...,  0.07991066,\n",
              "            0.1233999 ,  0.09509157],\n",
              "          [ 0.0695825 , -0.00403111,  0.00855916, ..., -0.08220749,\n",
              "            0.07233632, -0.0243766 ],\n",
              "          [ 0.04238143, -0.06085054, -0.14558804, ..., -0.02850293,\n",
              "           -0.04370461, -0.01090596]],\n",
              " \n",
              "         [[ 0.01040803,  0.07297736, -0.09755474, ..., -0.00899762,\n",
              "           -0.12263183, -0.02145193],\n",
              "          [ 0.05900789,  0.06625047, -0.03259524, ..., -0.04520261,\n",
              "           -0.0526883 ,  0.03982168],\n",
              "          [-0.02478518,  0.10818131,  0.02899689, ..., -0.03808872,\n",
              "           -0.11252736, -0.01161149],\n",
              "          ...,\n",
              "          [ 0.03001495,  0.0593219 , -0.09527871, ...,  0.06064451,\n",
              "            0.12525858,  0.0051533 ],\n",
              "          [ 0.06979591,  0.00095498,  0.10773003, ..., -0.06028828,\n",
              "            0.02958142,  0.063126  ],\n",
              "          [-0.02356135, -0.00393944,  0.04643324, ..., -0.08188859,\n",
              "           -0.11050404, -0.02870684]]],\n",
              " \n",
              " \n",
              "        [[[ 0.05728454, -0.04817495, -0.03234603, ..., -0.04509743,\n",
              "           -0.02161487, -0.02476813],\n",
              "          [ 0.08820759, -0.07500366,  0.00184835, ..., -0.00753877,\n",
              "            0.0004626 , -0.00922921],\n",
              "          [-0.05009957, -0.01298626, -0.112838  , ...,  0.05700684,\n",
              "            0.09951895, -0.06092029],\n",
              "          ...,\n",
              "          [-0.01812681,  0.00326331,  0.06468321, ..., -0.01804612,\n",
              "            0.08189632, -0.05355488],\n",
              "          [ 0.08170493, -0.13573435, -0.0759111 , ..., -0.03639995,\n",
              "           -0.06680528,  0.04825848],\n",
              "          [ 0.066257  ,  0.01600511, -0.08270929, ...,  0.00116959,\n",
              "           -0.08004276,  0.0410536 ]],\n",
              " \n",
              "         [[-0.10604744, -0.10741456, -0.05632914, ...,  0.10452908,\n",
              "           -0.01982371, -0.00932893],\n",
              "          [ 0.0456123 , -0.05119286, -0.06895251, ..., -0.03939973,\n",
              "            0.2501266 ,  0.0028831 ],\n",
              "          [-0.00244496,  0.05612891, -0.02685118, ..., -0.03236891,\n",
              "            0.12296677, -0.1971914 ],\n",
              "          ...,\n",
              "          [-0.02198047,  0.00611665, -0.00373679, ..., -0.00150131,\n",
              "           -0.0603092 , -0.01569867],\n",
              "          [-0.00538519,  0.04371446,  0.0129577 , ..., -0.0768527 ,\n",
              "            0.05421166, -0.04181857],\n",
              "          [ 0.05479944, -0.04855736, -0.05581822, ..., -0.00676717,\n",
              "            0.04105874, -0.08315303]],\n",
              " \n",
              "         [[ 0.05401389,  0.0373397 , -0.0554917 , ...,  0.03431929,\n",
              "           -0.1500532 , -0.10768681],\n",
              "          [-0.05465779,  0.02377447,  0.03807611, ...,  0.00928191,\n",
              "           -0.0112398 , -0.03708403],\n",
              "          [ 0.02224936,  0.03153723,  0.0872822 , ..., -0.10329137,\n",
              "           -0.06351759, -0.17853712],\n",
              "          ...,\n",
              "          [ 0.09489675,  0.15909068, -0.02173227, ..., -0.10060653,\n",
              "            0.09441499, -0.12131939],\n",
              "          [ 0.07039336, -0.01192702,  0.07218385, ...,  0.00667446,\n",
              "           -0.01276624, -0.01450897],\n",
              "          [-0.07805591, -0.04368364,  0.04777833, ...,  0.08243628,\n",
              "            0.00424622, -0.03805062]]]], dtype=float32),\n",
              " array([-0.05340251, -0.04849952, -0.02376046, -0.07693489,  0.0566349 ,\n",
              "         0.01214549, -0.05489248, -0.11257306, -0.07969635, -0.04706158,\n",
              "        -0.06456351, -0.12722406, -0.15252796, -0.03221622, -0.02893887,\n",
              "        -0.1267924 ,  0.07812674, -0.03677509,  0.03521796,  0.01375916,\n",
              "         0.06630033, -0.06883033, -0.05941661, -0.09855165, -0.10479965,\n",
              "        -0.09631032,  0.02404963, -0.08798354, -0.17066227, -0.10956482,\n",
              "        -0.06835747, -0.07587788, -0.20966549, -0.14527224, -0.02752172,\n",
              "        -0.10459726, -0.15445454, -0.12808143,  0.04526738, -0.07134126,\n",
              "        -0.07175422, -0.022385  , -0.09054198, -0.1111159 ,  0.02734798,\n",
              "        -0.01913721, -0.09397253, -0.02591746, -0.00251862,  0.0417507 ,\n",
              "         0.01348701, -0.04930425, -0.09141494, -0.05998071, -0.00872897,\n",
              "        -0.04714401, -0.02969584, -0.08629234, -0.04079548, -0.06687129,\n",
              "        -0.09495666, -0.17138119, -0.04139403, -0.09260979], dtype=float32)]"
            ]
          },
          "metadata": {
            "tags": []
          },
          "execution_count": 14
        }
      ]
    },
    {
      "cell_type": "markdown",
      "metadata": {
        "id": "ryoaG54CFkWA"
      },
      "source": [
        "## Evaluate"
      ]
    },
    {
      "cell_type": "code",
      "metadata": {
        "id": "arFWhblrFld3",
        "colab": {
          "base_uri": "https://localhost:8080/",
          "height": 51
        },
        "outputId": "f504cdd3-11bc-4c2b-8fd6-097b7816b527"
      },
      "source": [
        "model.evaluate(X_test, y_test, batch_size=1000)"
      ],
      "execution_count": null,
      "outputs": [
        {
          "output_type": "stream",
          "text": [
            "10/10 [==============================] - 6s 611ms/step - loss: 0.9182 - accuracy: 0.6997\n"
          ],
          "name": "stdout"
        },
        {
          "output_type": "execute_result",
          "data": {
            "text/plain": [
              "[0.9182003140449524, 0.6996999979019165]"
            ]
          },
          "metadata": {
            "tags": []
          },
          "execution_count": 15
        }
      ]
    },
    {
      "cell_type": "markdown",
      "metadata": {
        "id": "f0gJNh1M7hkt"
      },
      "source": [
        "[loss, accuracy] 가 출력된다.  \n",
        "결과를 시각화해 보자."
      ]
    },
    {
      "cell_type": "code",
      "metadata": {
        "id": "PleiM5uXFqpy"
      },
      "source": [
        "CLASSES = np.array(['airplane','automobile','bird','cat','deer','dog','frog','horse','ship','truck'])\n",
        "\n",
        "preds = model.predict(X_test)\n",
        "preds_single = CLASSES[np.argmax(preds, axis=-1)]\n",
        "actual_single = CLASSES[np.argmax(y_test, axis=-1)]"
      ],
      "execution_count": null,
      "outputs": []
    },
    {
      "cell_type": "code",
      "metadata": {
        "id": "7KenquhHGE7D",
        "colab": {
          "base_uri": "https://localhost:8080/",
          "height": 131
        },
        "outputId": "8bea2277-068e-41e5-c1b1-de7eebfba461"
      },
      "source": [
        "import matplotlib.pyplot as plt\n",
        "\n",
        "n_to_show = 10\n",
        "indices = np.random.choice(range(len(X_test)), n_to_show)\n",
        "\n",
        "fig = plt.figure(figsize=(15, 3))\n",
        "fig.subplots_adjust(hspace=0.5, wspace=0.5)\n",
        "\n",
        "for i, idx in enumerate(indices):\n",
        "    img = X_test[idx]\n",
        "    ax = fig.add_subplot(1, n_to_show, i+1)\n",
        "    ax.axis('off')\n",
        "    ax.text(0.5, -0.35, 'pred = ' + str(preds_single[idx]), fontsize=10, ha='center', transform=ax.transAxes) \n",
        "    ax.text(0.5, -0.7, 'act = ' + str(actual_single[idx]), fontsize=10, ha='center', transform=ax.transAxes)\n",
        "    ax.imshow(img)"
      ],
      "execution_count": null,
      "outputs": [
        {
          "output_type": "display_data",
          "data": {
            "image/png": "[encoded data removed]",
            "text/plain": [
              "<Figure size 1080x216 with 10 Axes>"
            ]
          },
          "metadata": {
            "tags": [],
            "needs_background": "light"
          }
        }
      ]
    },
    {
      "cell_type": "markdown",
      "metadata": {
        "id": "zxuUepeTjTJh"
      },
      "source": [
        "**- Assignment 5: model및 training 환경을 자유롭게 변경하여 Accuracy 75% 이상을 달성해 보세요!**"
      ]
    },
    {
      "cell_type": "code",
      "metadata": {
        "id": "0jQtOr_gGLCW"
      },
      "source": [
        "## 화이팅:)"
      ],
      "execution_count": null,
      "outputs": []
    }
  ]
}