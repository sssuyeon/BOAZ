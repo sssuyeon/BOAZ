{
 "cells": [
  {
   "cell_type": "code",
   "execution_count": null,
   "metadata": {},
   "outputs": [],
   "source": [
    "import pandas as pd"
   ]
  },
  {
   "cell_type": "markdown",
   "metadata": {},
   "source": [
    "# BeautifulSoup"
   ]
  },
  {
   "cell_type": "code",
   "execution_count": null,
   "metadata": {},
   "outputs": [],
   "source": [
    "from bs4 import BeautifulSoup\n",
    "import requests"
   ]
  },
  {
   "cell_type": "markdown",
   "metadata": {},
   "source": [
    "## 현재 상영하고 있는 영화"
   ]
  },
  {
   "cell_type": "code",
   "execution_count": null,
   "metadata": {},
   "outputs": [],
   "source": [
    "release = pd.DataFrame(columns = ['title','director', 'genre'])"
   ]
  },
  {
   "cell_type": "code",
   "execution_count": null,
   "metadata": {},
   "outputs": [],
   "source": [
    "url = 'https://movie.naver.com/movie/running/current.nhn?order=reserve'\n",
    "html = requests.get(url).content\n",
    "soup = BeautifulSoup(html, 'lxml')"
   ]
  },
  {
   "cell_type": "code",
   "execution_count": null,
   "metadata": {},
   "outputs": [],
   "source": [
    "# soup"
   ]
  },
  {
   "cell_type": "code",
   "execution_count": null,
   "metadata": {
    "scrolled": true
   },
   "outputs": [],
   "source": [
    "# li들 = 영화들\n",
    "current_raw = soup.find('ul', 'lst_detail_t1').find_all('li')\n",
    "current_raw[0]"
   ]
  },
  {
   "cell_type": "code",
   "execution_count": null,
   "metadata": {},
   "outputs": [],
   "source": [
    "title = current_raw[0].img['alt']\n",
    "genre = \", \".join(map(lambda x: x.text, current_raw[0].find_all('dd')[4]\\\n",
    "                                                    .find_all('span', 'link_txt')[0].find_all('a')))\n",
    "director = current_raw[0].find_all('dd')[3].find_all('span', 'link_txt')[1].text.split(',')\n",
    "director = \", \".join(map(lambda x: x.strip(), director))"
   ]
  },
  {
   "cell_type": "code",
   "execution_count": null,
   "metadata": {},
   "outputs": [],
   "source": [
    "release = release.append({'title':title,'director':director, 'genre':genre}, ignore_index = True)"
   ]
  },
  {
   "cell_type": "code",
   "execution_count": null,
   "metadata": {},
   "outputs": [],
   "source": [
    "for i in range(10):\n",
    "    try:\n",
    "        title = current_raw[i].img['alt']\n",
    "        genre = \", \".join(map(lambda x: x.text, current_raw[i].find_all('dd')[4]\\\n",
    "                                                .find_all('span', 'link_txt')[0].find_all('a')))\n",
    "        director = current_raw[i].find_all('dd')[3].find_all('span', 'link_txt')[1].text.split(',')\n",
    "        director = \", \".join(map(lambda x: x.strip(), director))\n",
    "    except:\n",
    "        print(f\"'{i+1}번째 상영작'을 크롤링하는 중에 오류가 발생하였습니다.\")\n",
    "        print(f\"title: {title}\\ngenre: {genre}\\ndirector: {director}\\n\")\n",
    "\n",
    "    finally:\n",
    "        release = release.append({'title':title,'director':director, 'genre':genre}, \n",
    "                                           ignore_index = True)"
   ]
  },
  {
   "cell_type": "markdown",
   "metadata": {},
   "source": [
    "# Selenium"
   ]
  },
  {
   "cell_type": "code",
   "execution_count": null,
   "metadata": {},
   "outputs": [],
   "source": [
    "from selenium import webdriver"
   ]
  },
  {
   "cell_type": "markdown",
   "metadata": {},
   "source": [
    "## 영화 검색"
   ]
  },
  {
   "cell_type": "code",
   "execution_count": null,
   "metadata": {},
   "outputs": [],
   "source": [
    "url = \"https://movie.naver.com\"\n",
    "\n",
    "driver = webdriver.Chrome(executable_path = '/Users/yejin/Desktop/chromedriver')\n",
    "driver.get(url)\n",
    "search = driver.find_element_by_css_selector('#ipt_tx_srch')\n",
    "search.send_keys(input())\n",
    "# time.sleep(1)\n",
    "driver.implicitly_wait(0.5)\n",
    "\n",
    "title = driver.find_element_by_css_selector('#jAutoMV > ul > li:nth-child(1)').get_attribute('data-title')\n",
    "# code = driver.find_element_by_css_selector('#jAutoMV > ul > li:nth-child(1) > a').get_attribute('href')"
   ]
  },
  {
   "cell_type": "code",
   "execution_count": null,
   "metadata": {},
   "outputs": [],
   "source": [
    "driver.find_element_by_css_selector('#jSearchArea > div > button').click()"
   ]
  },
  {
   "cell_type": "code",
   "execution_count": null,
   "metadata": {},
   "outputs": [],
   "source": [
    "driver.find_element_by_css_selector('#old_content > ul.search_list_1 > li > dl > dt > a').click()"
   ]
  },
  {
   "cell_type": "markdown",
   "metadata": {},
   "source": [
    "## 영화 리뷰 크롤링"
   ]
  },
  {
   "cell_type": "code",
   "execution_count": null,
   "metadata": {},
   "outputs": [],
   "source": [
    "driver.find_element_by_css_selector('#movieEndTabMenu > li:nth-child(5) > a').click()"
   ]
  },
  {
   "cell_type": "code",
   "execution_count": null,
   "metadata": {},
   "outputs": [],
   "source": [
    "driver.switch_to.frame(\"pointAfterListIframe\")"
   ]
  },
  {
   "cell_type": "code",
   "execution_count": null,
   "metadata": {},
   "outputs": [],
   "source": [
    "p = 2 # 페이지\n",
    "driver.find_element_by_css_selector(f'a#pagerTagAnchor{p}').click()"
   ]
  },
  {
   "cell_type": "code",
   "execution_count": null,
   "metadata": {},
   "outputs": [],
   "source": [
    "i = 1 # i번째 리뷰\n",
    "star = int(driver.find_element_by_css_selector(f'body > div > div > div.score_result > ul > \\\n",
    "                                                li:nth-child({i}) > div.star_score > em').text)\n",
    "review = driver.find_element_by_css_selector(f'#_filtered_ment_{i-1}').text"
   ]
  },
  {
   "cell_type": "code",
   "execution_count": null,
   "metadata": {},
   "outputs": [],
   "source": [
    "star"
   ]
  },
  {
   "cell_type": "code",
   "execution_count": null,
   "metadata": {},
   "outputs": [],
   "source": [
    "review"
   ]
  },
  {
   "cell_type": "code",
   "execution_count": null,
   "metadata": {},
   "outputs": [],
   "source": []
  }
 ],
 "metadata": {
  "kernelspec": {
   "display_name": "Python 3.8.5 64-bit (conda)",
   "language": "python",
   "name": "python385jvsc74a57bd0dca0ade3e726a953b501b15e8e990130d2b7799f14cfd9f4271676035ebe5511"
  },
  "language_info": {
   "codemirror_mode": {
    "name": "ipython",
    "version": 3
   },
   "file_extension": ".py",
   "mimetype": "text/x-python",
   "name": "python",
   "nbconvert_exporter": "python",
   "pygments_lexer": "ipython3",
   "version": "3.8.5"
  },
  "toc": {
   "base_numbering": 1,
   "nav_menu": {},
   "number_sections": false,
   "sideBar": true,
   "skip_h1_title": false,
   "title_cell": "Table of Contents",
   "title_sidebar": "Contents",
   "toc_cell": false,
   "toc_position": {},
   "toc_section_display": true,
   "toc_window_display": false
  }
 },
 "nbformat": 4,
 "nbformat_minor": 4
}
