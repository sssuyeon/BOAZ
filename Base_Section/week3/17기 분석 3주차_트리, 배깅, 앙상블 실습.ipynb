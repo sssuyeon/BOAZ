{
  "nbformat": 4,
  "nbformat_minor": 0,
  "metadata": {
    "kernelspec": {
      "display_name": "Python 3",
      "language": "python",
      "name": "python3"
    },
    "language_info": {
      "codemirror_mode": {
        "name": "ipython",
        "version": 3
      },
      "file_extension": ".py",
      "mimetype": "text/x-python",
      "name": "python",
      "nbconvert_exporter": "python",
      "pygments_lexer": "ipython3",
      "version": "3.8.5"
    },
    "colab": {
      "name": "Tree_Ensemble_Bagging_세션용.ipynb",
      "provenance": []
    }
  },
  "cells": [
    {
      "cell_type": "markdown",
      "metadata": {
        "id": "uQOOoBugMz33"
      },
      "source": [
        "# Decision Tree 실습"
      ]
    },
    {
      "cell_type": "markdown",
      "metadata": {
        "id": "UBu_Q6kKOuCG"
      },
      "source": [
        "## 1. DecisionTree Classifier"
      ]
    },
    {
      "cell_type": "code",
      "metadata": {
        "id": "PDiKbrrhM4b1"
      },
      "source": [
        "from sklearn import tree\n",
        "from sklearn import datasets\n",
        "from sklearn.model_selection import train_test_split\n",
        "from sklearn.preprocessing import StandardScaler\n",
        "import numpy as np"
      ],
      "execution_count": 11,
      "outputs": []
    },
    {
      "cell_type": "code",
      "metadata": {
        "id": "uSFj5eglM4eK"
      },
      "source": [
        "iris = datasets.load_iris()\n",
        "X = iris.data[:, [2, 3]]\n",
        "y = iris.target\n",
        "\n",
        "# 자동으로 데이터셋을 분리해주는 함수\n",
        "X_train, X_test, y_train, y_test = train_test_split(X, y, test_size=0.3, random_state=0)\n",
        "\n",
        "# 데이터 표준화 작업\n",
        "sc = StandardScaler()\n",
        "sc.fit(X_train)\n",
        "\n",
        "# 표준화된 데이터셋\n",
        "X_train_std = sc.transform(X_train)\n",
        "X_test_std = sc.transform(X_test)"
      ],
      "execution_count": 9,
      "outputs": []
    },
    {
      "cell_type": "markdown",
      "metadata": {
        "id": "dBrgrX6ZPCDK"
      },
      "source": [
        "## 핵심 파라미터\n",
        "\n",
        "- min_samples_split : 노드를 분할하기 위한 최소한의 샘플 데이터수 ( 과적합을 제어하는데 사용 )\n",
        "  - Default = 2 → 작게 설정할 수록 분할 노드가 많아져 과적합 가능성 증가\n",
        "- min_samples_leaf: 리프노드가 되기 위해 필요한 최소한의 샘플 데이터수, min_samples_split과 함께 과적합 제어 용도,불균형 데이터의 경우 특정 클래스의 데이터가 극도로 작을 수 있으므로 작게 설정 필요\n",
        "- max_features: 최적의 분할을 위해 고려할 최대 feature 개수\n",
        "  - Default = None → 데이터 세트의 모든 피처를 사용, int형으로 지정 →피처 갯수 / float형으로 지정 →비중, sqrt 또는 auto : 전체 피처 중 √(피처개수) 만큼 선정, log : 전체 피처 중 log2(전체 피처 개수) 만큼 선정\n",
        "- max_depth : 트리의 최대 깊이\n",
        "  - default = None → 완벽하게 클래스 값이 결정될 때 까지 분할 또는 데이터 개수가 min_samples_split보다 작아질 때까지 분할, 깊이가 깊어지면 과적합될 수 있으므로 적절히 제어 필요\n",
        "- max_leaf_nodes: 리프노드의 최대 개수"
      ]
    },
    {
      "cell_type": "code",
      "metadata": {
        "colab": {
          "base_uri": "https://localhost:8080/"
        },
        "id": "8RLEkqw3M4ha",
        "outputId": "c66548fc-1135-4a4b-e49c-ca042e8f0241"
      },
      "source": [
        "# 트리 학습하기\n",
        "iris_tree = tree.DecisionTreeClassifier(criterion='entropy', max_depth=3, random_state=0)\n",
        "iris_tree.fit(X_train, y_train)"
      ],
      "execution_count": 12,
      "outputs": [
        {
          "output_type": "execute_result",
          "data": {
            "text/plain": [
              "DecisionTreeClassifier(ccp_alpha=0.0, class_weight=None, criterion='entropy',\n",
              "                       max_depth=3, max_features=None, max_leaf_nodes=None,\n",
              "                       min_impurity_decrease=0.0, min_impurity_split=None,\n",
              "                       min_samples_leaf=1, min_samples_split=2,\n",
              "                       min_weight_fraction_leaf=0.0, presort='deprecated',\n",
              "                       random_state=0, splitter='best')"
            ]
          },
          "metadata": {
            "tags": []
          },
          "execution_count": 12
        }
      ]
    },
    {
      "cell_type": "code",
      "metadata": {
        "colab": {
          "base_uri": "https://localhost:8080/"
        },
        "id": "C41KoHgkM4kw",
        "outputId": "ec65f9d5-708f-4cab-af6c-c291ec5c4963"
      },
      "source": [
        "# 학습된 모델을 test 데이터로 테스트해보고, 정확도도 구해봅시다.\n",
        "\n",
        "from sklearn.metrics import accuracy_score\n",
        "\n",
        "y_pred_tr = iris_tree.predict(X_test)\n",
        "print('Accuracy: %.2f' % accuracy_score(y_test, y_pred_tr))"
      ],
      "execution_count": 13,
      "outputs": [
        {
          "output_type": "stream",
          "text": [
            "Accuracy: 0.98\n"
          ],
          "name": "stdout"
        }
      ]
    },
    {
      "cell_type": "code",
      "metadata": {
        "colab": {
          "base_uri": "https://localhost:8080/"
        },
        "id": "_fufhjauM4mz",
        "outputId": "31417abb-7632-4cd5-d4c2-a98a666e29b1"
      },
      "source": [
        "# Decision Tree 시각화\n",
        "!pip install graphviz"
      ],
      "execution_count": 15,
      "outputs": [
        {
          "output_type": "stream",
          "text": [
            "Requirement already satisfied: graphviz in /usr/local/lib/python3.7/dist-packages (0.10.1)\n"
          ],
          "name": "stdout"
        }
      ]
    },
    {
      "cell_type": "code",
      "metadata": {
        "colab": {
          "base_uri": "https://localhost:8080/",
          "height": 509
        },
        "id": "VoyfhImjM4o1",
        "outputId": "84998789-4891-4d96-a51d-53dc67abd7ba"
      },
      "source": [
        "from sklearn.tree import export_graphviz\n",
        "import pydotplus\n",
        "from IPython.display import Image\n",
        "\n",
        "dot_data = export_graphviz(iris_tree, out_file=None, feature_names=['petal length', 'petal width'],\n",
        "                          class_names=iris.target_names, filled=True, rounded=True, special_characters=True)\n",
        "graph = pydotplus.graph_from_dot_data(dot_data)\n",
        "Image(graph.create_png())"
      ],
      "execution_count": 16,
      "outputs": [
        {
          "output_type": "execute_result",
          "data": {
            "image/png": "[encoded data removed]",
            "text/plain": [
              "<IPython.core.display.Image object>"
            ]
          },
          "metadata": {
            "tags": []
          },
          "execution_count": 16
        }
      ]
    },
    {
      "cell_type": "markdown",
      "metadata": {
        "id": "HZQjhmLmbekk"
      },
      "source": [
        "# 2. 실습 과제 - DecisionRegressor 구현해보기\n",
        "* 데이터셋: 자유롭게 선택\n",
        "* 예측 및 실제 데이터 시각화까지!"
      ]
    },
    {
      "cell_type": "code",
      "metadata": {
        "id": "b5ZHIzj3bu3w"
      },
      "source": [
        "import matplotlib.pyplot as plt\n",
        "import pandas as pd\n",
        "import numpy as np\n",
        "from sklearn import metrics\n",
        "from sklearn import linear_model\n",
        "from sklearn import model_selection\n",
        "from sklearn.tree import DecisionTreeRegressor\n",
        "from sklearn.model_selection import GridSearchCV\n",
        "import pydotplus\n",
        "from IPython.display import Image\n",
        "from sklearn.tree import export_graphviz "
      ],
      "execution_count": null,
      "outputs": []
    },
    {
      "cell_type": "code",
      "metadata": {
        "id": "RGpYjYkMbamZ"
      },
      "source": [
        "# 데이터 로드 및 분리\n",
        "\n",
        "def fit_model(data, target):\n",
        "\n",
        "X_train, X_test, y_train, y_test = \n"
      ],
      "execution_count": null,
      "outputs": []
    },
    {
      "cell_type": "code",
      "metadata": {
        "id": "dSjZ8mZ9cQtT"
      },
      "source": [
        "# 모델 fitting\n",
        "\n",
        "regression = fit_model(X_train, y_train)"
      ],
      "execution_count": null,
      "outputs": []
    },
    {
      "cell_type": "code",
      "metadata": {
        "id": "lEo4fF9gcQwy"
      },
      "source": [
        "# 회귀선 시각화 (hint: for문 사용)\n"
      ],
      "execution_count": null,
      "outputs": []
    },
    {
      "cell_type": "code",
      "metadata": {
        "id": "wnfW6weJcQ2Q"
      },
      "source": [
        "# tree 시각화\n",
        "export_graphviz(regression_f, out_file ='tree.dot') \n",
        "with open(\"tree.dot\") as f:\n",
        "    dot_graph = f.read()\n",
        "\n",
        "# 이미지화\n",
        "pydot_graph = pydotplus.graph_from_dot_file(\"tree.dot\")\n",
        "Image(pydot_graph.create_png())"
      ],
      "execution_count": null,
      "outputs": []
    },
    {
      "cell_type": "markdown",
      "metadata": {
        "id": "vFExum52M7Wz"
      },
      "source": [
        "# Bagging & Ensemble 실습"
      ]
    },
    {
      "cell_type": "markdown",
      "metadata": {
        "id": "6zqL3ZgtMxrS"
      },
      "source": [
        "# 0. Voting 예제"
      ]
    },
    {
      "cell_type": "code",
      "metadata": {
        "id": "tc-uRL6IMxrd"
      },
      "source": [
        "import pandas as pd\n",
        "import numpy as np"
      ],
      "execution_count": null,
      "outputs": []
    },
    {
      "cell_type": "code",
      "metadata": {
        "id": "h35PSTSEMxrk"
      },
      "source": [
        "# 데이터\n",
        "X = np.array([[-1, -1, -10], [-3, -2, 9], [1, 5, 5], [2, 10, 2], [3, 2, -5]])\n",
        "y = np.array([1, 1, 2, 2, 2])"
      ],
      "execution_count": null,
      "outputs": []
    },
    {
      "cell_type": "code",
      "metadata": {
        "id": "BvTV8MXnMxrn",
        "outputId": "1163a9f8-bb2f-4298-c879-a290c2ca012f"
      },
      "source": [
        "from sklearn.naive_bayes import GaussianNB\n",
        "from sklearn.ensemble import RandomForestClassifier\n",
        "from sklearn.linear_model import LogisticRegression\n",
        "from sklearn.ensemble import VotingClassifier\n",
        "\n",
        "clf1 = LogisticRegression(multi_class='multinomial', random_state=1)\n",
        "clf2 = RandomForestClassifier(random_state=1)\n",
        "clf3 = GaussianNB()\n",
        "\n",
        "eclf_soft = VotingClassifier(estimators=[\n",
        "    ('lr', clf1), ('rf', clf2), ('gnb', clf3)], voting='soft')\n",
        "eclf_soft = eclf_soft.fit(X, y)\n",
        "\n",
        "eclf_hard = VotingClassifier(estimators=[\n",
        "    ('lr', clf1), ('rf', clf2), ('gnb', clf3)], voting='hard')\n",
        "eclf_hard = eclf_hard.fit(X, y)\n",
        "\n",
        "print('Soft voting 방법:', eclf_soft.predict(X))\n",
        "print('Hard voting 방법:', eclf_soft.predict(X))"
      ],
      "execution_count": null,
      "outputs": [
        {
          "output_type": "stream",
          "text": [
            "Soft voting 방법: [1 1 2 2 2]\n",
            "Hard voting 방법: [1 1 2 2 2]\n"
          ],
          "name": "stdout"
        }
      ]
    },
    {
      "cell_type": "markdown",
      "metadata": {
        "id": "vSJFkLsdMxrv"
      },
      "source": [
        "# 1. Bagging 회귀"
      ]
    },
    {
      "cell_type": "markdown",
      "metadata": {
        "id": "7-7YW4DoMxrw"
      },
      "source": [
        "## 1.1 데이터셋 준비"
      ]
    },
    {
      "cell_type": "code",
      "metadata": {
        "id": "w_FCrivvMxry"
      },
      "source": [
        "from sklearn.datasets import load_boston\n",
        "from sklearn.datasets import load_diabetes\n",
        "\n",
        "raw_boston = load_boston()\n",
        "boston_data = pd.DataFrame(raw_boston.data, columns = raw_boston.feature_names)\n",
        "boston_data['target'] = raw_boston.target\n",
        "boston_data.head()"
      ],
      "execution_count": null,
      "outputs": []
    },
    {
      "cell_type": "code",
      "metadata": {
        "id": "Dpqyhdl_Mxr2"
      },
      "source": [
        "# 데이터 사이즈 확인\n",
        "boston_data.shape"
      ],
      "execution_count": null,
      "outputs": []
    },
    {
      "cell_type": "code",
      "metadata": {
        "id": "W9EIIqaLMxr5"
      },
      "source": [
        "from sklearn.model_selection import train_test_split\n",
        "# 데이터셋 분리\n",
        "bs_X_train, bs_X_test, bs_y_train, bs_y_test = train_test_split(raw_boston.data, raw_boston.target,\n",
        "                                                    test_size=0.3, random_state=42)\n",
        "print('X_train의 shape:', bs_X_train.shape)\n",
        "print('X_test의 shape:', bs_X_test.shape)\n",
        "print('y_train의 shape:', bs_y_train.shape)\n",
        "print('y_test의 shape:', bs_y_test.shape)"
      ],
      "execution_count": null,
      "outputs": []
    },
    {
      "cell_type": "markdown",
      "metadata": {
        "id": "K-EMi4PwMxr_"
      },
      "source": [
        "## 1.2 Bagging 회귀 모델 만들기\n",
        "- https://scikit-learn.org/stable/modules/generated/sklearn.ensemble.BaggingRegressor.html\n",
        "- 주요 파라미터:\n",
        "    - base_estimator\n",
        "    - n_estimators\n",
        "    - max_samples\n",
        "    - max_features\n",
        "    - bootstrap\n",
        "    - bootstrap_features"
      ]
    },
    {
      "cell_type": "code",
      "metadata": {
        "id": "jlaJr1faMxsC"
      },
      "source": [
        "from sklearn.ensemble import BaggingRegressor\n",
        "from sklearn.tree import DecisionTreeRegressor\n",
        "from sklearn.metrics import accuracy_score"
      ],
      "execution_count": null,
      "outputs": []
    },
    {
      "cell_type": "code",
      "metadata": {
        "id": "2KloCgMNMxsD"
      },
      "source": [
        "reg_tree = DecisionTreeRegressor(random_state = 42)\n",
        "reg_bagg = BaggingRegressor(base_estimator = reg_tree,\n",
        "                            n_estimators =10, random_state = 42)\n",
        "\n",
        "reg_bagg = reg_bagg.fit(bs_X_train, bs_y_train)\n",
        "bs_pred_test = reg_bagg.predict(bs_X_test)"
      ],
      "execution_count": null,
      "outputs": []
    },
    {
      "cell_type": "code",
      "metadata": {
        "id": "7aVu43NeMxsF"
      },
      "source": [
        "from sklearn.metrics import mean_squared_error # 평균 제곱 오차\n",
        "\n",
        "mean_squared_error(bs_pred_test, bs_y_test)"
      ],
      "execution_count": null,
      "outputs": []
    },
    {
      "cell_type": "markdown",
      "metadata": {
        "id": "JKyVij26MxsI"
      },
      "source": [
        "# 2. Bagging 분류"
      ]
    },
    {
      "cell_type": "markdown",
      "metadata": {
        "id": "autpQA9kMxsL"
      },
      "source": [
        "## 2.1 데이터셋 준비"
      ]
    },
    {
      "cell_type": "code",
      "metadata": {
        "id": "Souvhh6hMxsN"
      },
      "source": [
        "from sklearn.datasets import load_iris\n",
        "from sklearn.datasets import load_wine\n",
        "from sklearn.datasets import load_digits\n",
        "\n",
        "raw_data = load_iris()\n",
        "data = pd.DataFrame(raw_data.data, columns = raw_data.feature_names)\n",
        "data['class'] = raw_data.target\n",
        "data.head()"
      ],
      "execution_count": null,
      "outputs": []
    },
    {
      "cell_type": "code",
      "metadata": {
        "id": "s8biBDDGMxsP"
      },
      "source": [
        "data['class'].value_counts()"
      ],
      "execution_count": null,
      "outputs": []
    },
    {
      "cell_type": "code",
      "metadata": {
        "id": "5k1O6675MxsX"
      },
      "source": [
        "# 데이터 사이즈 확인\n",
        "data.shape"
      ],
      "execution_count": null,
      "outputs": []
    },
    {
      "cell_type": "code",
      "metadata": {
        "id": "XrJsgiOXMxsZ"
      },
      "source": [
        "# 데이터셋 분리\n",
        "from sklearn.model_selection import train_test_split\n",
        "\n",
        "X_train, X_test, y_train, y_test = train_test_split(raw_data.data, raw_data.target,\n",
        "                                                    test_size = 0.3, random_state = 0)\n",
        "print('X_train의 shape:', X_train.shape)\n",
        "print('X_test의 shape:', X_test.shape)\n",
        "print('y_train의 shape:', y_train.shape)\n",
        "print('y_test의 shape:', y_test.shape)"
      ],
      "execution_count": null,
      "outputs": []
    },
    {
      "cell_type": "markdown",
      "metadata": {
        "id": "Od8PZ8yFMxsc"
      },
      "source": [
        "## 2.2 Bagging 분류 모델 만들기\n",
        "- https://scikit-learn.org/stable/modules/generated/sklearn.ensemble.BaggingClassifier.html\n",
        "- 주요 파라미터\n",
        "    - base_estimator:\n",
        "    - n_estimators\n",
        "    - max_samples\n",
        "    - max_features\n",
        "    - bootstrap\n",
        "    - bootstrap_features"
      ]
    },
    {
      "cell_type": "code",
      "metadata": {
        "id": "SCY4zLltMxsf"
      },
      "source": [
        "from sklearn.ensemble import BaggingClassifier\n",
        "from sklearn.neighbors import KNeighborsClassifier\n",
        "from sklearn.metrics import accuracy_score"
      ],
      "execution_count": null,
      "outputs": []
    },
    {
      "cell_type": "code",
      "metadata": {
        "id": "gmKPvTneMxsj"
      },
      "source": [
        "neigh = KNeighborsClassifier(n_neighbors=3)\n",
        "bagging_classifier = BaggingClassifier(base_estimator = neigh,\n",
        "                                       n_estimators=5, bootstrap=True)\n",
        "\n",
        "bagging_classifier = bagging_classifier.fit(X_train, y_train)\n",
        "pred_test = bagging_classifier.predict(X_test)\n",
        "\n",
        "print('acc score:', round(accuracy_score(y_test, pred_test), 3)) # accuracy_score"
      ],
      "execution_count": null,
      "outputs": []
    },
    {
      "cell_type": "markdown",
      "metadata": {
        "id": "n87c-l8CMxs3"
      },
      "source": [
        "# 3. Random Forest"
      ]
    },
    {
      "cell_type": "code",
      "metadata": {
        "id": "BPIamCvBMxtG"
      },
      "source": [
        "from sklearn.ensemble import RandomForestClassifier\n",
        "from sklearn.metrics import accuracy_score\n",
        "\n",
        "rf_clf = RandomForestClassifier(n_estimators = 10, random_state = 0)\n",
        "rf_clf.fit(X_train , y_train)\n",
        "pred = rf_clf.predict(X_test)\n",
        "\n",
        "accuracy = accuracy_score(y_test , pred)\n",
        "\n",
        "print('랜덤 포레스트 acc:', round(accuracy_score(y_test , pred), 3))"
      ],
      "execution_count": null,
      "outputs": []
    },
    {
      "cell_type": "code",
      "metadata": {
        "id": "H_QBnIluMxtK"
      },
      "source": [
        "# 변수 중요도 보기\n",
        "ftr_importances_values = rf_clf.feature_importances_\n",
        "ftr_importances = pd.Series(ftr_importances_values, index = data.columns[:4])\n",
        "ftr = ftr_importances.sort_values(ascending=False)[:4] # 10\n",
        "ftr"
      ],
      "execution_count": null,
      "outputs": []
    },
    {
      "cell_type": "code",
      "metadata": {
        "id": "FDTziCC0MxtY"
      },
      "source": [
        "# 변수 중요도 시각화\n",
        "import matplotlib.pyplot as plt\n",
        "import seaborn as sns\n",
        "%matplotlib inline\n",
        "\n",
        "plt.figure(figsize=(10,5))\n",
        "plt.title('Iris Data Feature Importances')\n",
        "sns.barplot(x = ftr, y = ftr.index)\n",
        "plt.show()"
      ],
      "execution_count": null,
      "outputs": []
    },
    {
      "cell_type": "markdown",
      "metadata": {
        "id": "lyLXsa8oMxto"
      },
      "source": [
        "# 4. 실습 과제 - 배깅 구현해보기 \n",
        "* 분류, 회귀 둘 중 하나 구현해보기\n",
        "* 데이터셋: 자유롭게 선택\n",
        "* Hint) for문과 random 이용"
      ]
    },
    {
      "cell_type": "code",
      "metadata": {
        "id": "r0-i1HjdMxtv",
        "outputId": "d6862048-5576-4d8e-9c23-71627e2b2ba7"
      },
      "source": [
        "# 데이터셋 분리\n",
        "\n"
      ],
      "execution_count": null,
      "outputs": [
        {
          "output_type": "stream",
          "text": [
            "X_train의 shape: (105, 4)\n",
            "X_test의 shape: (45, 4)\n",
            "y_train의 shape: (105,)\n",
            "y_test의 shape: (45,)\n"
          ],
          "name": "stdout"
        }
      ]
    },
    {
      "cell_type": "code",
      "metadata": {
        "id": "xJ04iX48Mxtz",
        "outputId": "e54da20c-b0ff-4796-ea10-5569145eb869"
      },
      "source": [
        "# 랜덤하게 나눈 데이터 인덱스 (X_train)\n",
        "\n"
      ],
      "execution_count": null,
      "outputs": [
        {
          "output_type": "execute_result",
          "data": {
            "text/plain": [
              "array([ 40,  74,  31,  11,  17,  84,  30,  14,  55,  77,   4,  33,  99,\n",
              "        65,   8,  18,  87,  85,  27,  42,  20,  39, 101,  59,  29,  31,\n",
              "        99,  10,  68,  27,  17,  12,   6,   6,  68,  22,  94,  17,  43,\n",
              "        43,   7,  17,  30,   0,  26,  59,  59,  25,  83,  96,  98,  77,\n",
              "        56,  78,  10, 104,  68,  63,  39,  43,  96,  94,  89,  17,  10,\n",
              "       102,  47,  18,  67,  58,  50,  75,  39,   5,  83,  31,  74,  74,\n",
              "        77,  22,  98,  71, 103,  27,  86,  74,  77,  90,  62,  56])"
            ]
          },
          "metadata": {
            "tags": []
          },
          "execution_count": 91
        }
      ]
    },
    {
      "cell_type": "code",
      "metadata": {
        "id": "j-TLq2nuMxt2"
      },
      "source": [
        "# Bagging 구현 코드\n",
        "\n",
        "\n",
        "\n",
        "\n"
      ],
      "execution_count": null,
      "outputs": []
    },
    {
      "cell_type": "code",
      "metadata": {
        "id": "sH-O_u-FMxt3",
        "outputId": "68f9e826-c892-4b23-ac2a-191078419dc5"
      },
      "source": [
        "# 모델들 예측 결과\n"
      ],
      "execution_count": null,
      "outputs": [
        {
          "output_type": "execute_result",
          "data": {
            "text/plain": [
              "[0.978, 0.978, 0.978, 0.956, 0.978, 0.933, 0.956, 0.978, 0.911, 0.978]"
            ]
          },
          "metadata": {
            "tags": []
          },
          "execution_count": 99
        }
      ]
    },
    {
      "cell_type": "code",
      "metadata": {
        "id": "7dM7qJzHMxt5",
        "outputId": "d2637d7f-ea7c-4ee1-9842-67a61aa1d8d0"
      },
      "source": [
        "# 최종 결과 (평균 계산)\n"
      ],
      "execution_count": null,
      "outputs": [
        {
          "output_type": "execute_result",
          "data": {
            "text/plain": [
              "0.962"
            ]
          },
          "metadata": {
            "tags": []
          },
          "execution_count": 101
        }
      ]
    },
    {
      "cell_type": "code",
      "metadata": {
        "id": "54pQpfgvMxuP"
      },
      "source": [
        ""
      ],
      "execution_count": null,
      "outputs": []
    }
  ]
}